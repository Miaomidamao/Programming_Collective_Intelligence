{
 "cells": [
  {
   "cell_type": "code",
   "execution_count": 1,
   "metadata": {},
   "outputs": [],
   "source": [
    "from math import sqrt\n",
    "import codecs\n",
    "import random as rd"
   ]
  },
  {
   "cell_type": "markdown",
   "metadata": {},
   "source": [
    "### 创建一个数据集，字典表示。内容为评价者对电影的评价"
   ]
  },
  {
   "cell_type": "code",
   "execution_count": 2,
   "metadata": {
    "_cell_guid": "79c7e3d0-c299-4dcb-8224-4455121ee9b0",
    "_uuid": "d629ff2d2480ee46fbb7e2d37f6b5fab8052498a"
   },
   "outputs": [],
   "source": [
    "critics = {'Lisa Rose': {'Lady in the Water': 2.5, 'Snakes on a Plane': 3.5,\n",
    "                         'Just My Luck': 3.0, 'Superman Returns': 3.5, 'You, Me and Dupree': 2.5,\n",
    "                         'The Night Listener': 3.0},\n",
    "           'Gene Seymour': {'Lady in the Water': 3.0, 'Snakes on a Plane': 3.5,\n",
    "                            'Just My Luck': 1.5, 'Superman Returns': 5.0, 'The Night Listener': 3.0,\n",
    "                            'You, Me and Dupree': 3.5},\n",
    "           'Michael Phillips': {'Lady in the Water': 2.5, 'Snakes on a Plane': 3.0,\n",
    "                                'Superman Returns': 3.5, 'The Night Listener': 4.0},\n",
    "           'Claudia Puig': {'Snakes on a Plane': 3.5, 'Just My Luck': 3.0,\n",
    "                            'The Night Listener': 4.5, 'Superman Returns': 4.0,\n",
    "                            'You, Me and Dupree': 2.5},\n",
    "           'Mick LaSalle': {'Lady in the Water': 3.0, 'Snakes on a Plane': 4.0,\n",
    "                            'Just My Luck': 2.0, 'Superman Returns': 3.0, 'The Night Listener': 3.0,\n",
    "                            'You, Me and Dupree': 2.0},\n",
    "           'Jack Matthews': {'Lady in the Water': 3.0, 'Snakes on a Plane': 4.0,\n",
    "                             'The Night Listener': 3.0, 'Superman Returns': 5.0, 'You, Me and Dupree': 3.5},\n",
    "           'Toby': {'Snakes on a Plane': 4.5, 'You, Me and Dupree': 1.0, 'Superman Returns': 4.0}}"
   ]
  },
  {
   "cell_type": "markdown",
   "metadata": {},
   "source": [
    "## 1. &nbsp; 用户相似度"
   ]
  },
  {
   "cell_type": "markdown",
   "metadata": {},
   "source": [
    "### 欧式距离评价\n",
    "$$sim(x,y) = \\frac{1}{1+\\sqrt{\\lVert x-y \\rVert_2^2}}$$"
   ]
  },
  {
   "cell_type": "code",
   "execution_count": 3,
   "metadata": {},
   "outputs": [],
   "source": [
    "def sim_distance(person1_name, person2_name, prefs):\n",
    "    person1, person2 = prefs[person1_name], prefs[person2_name]\n",
    "    # 查找共同电影\n",
    "    common_item = {}\n",
    "    for key in person1.keys():\n",
    "        if key in person2.keys():\n",
    "            common_item[key] = 1\n",
    "    if not len(common_item):\n",
    "        return 0\n",
    "    euc_distance = sum([pow(person1[key]-person2[key], 2) for key in common_item])\n",
    "    return 1 / (1 + sqrt(euc_distance))"
   ]
  },
  {
   "cell_type": "code",
   "execution_count": 4,
   "metadata": {},
   "outputs": [
    {
     "data": {
      "text/plain": [
       "0.29429805508554946"
      ]
     },
     "execution_count": 4,
     "metadata": {},
     "output_type": "execute_result"
    }
   ],
   "source": [
    "sim_distance('Lisa Rose', 'Gene Seymour', critics)"
   ]
  },
  {
   "cell_type": "markdown",
   "metadata": {},
   "source": [
    "### 皮尔森相关系数评价\n",
    "$$ sim(x,y) = \\frac{\\sum{x_i y_i} - \\frac{\\sum{x_i}\\sum{y_i}}{n}}{\\sqrt{\\sum{x_i^2}-\\frac{(\\sum{x_i})^2}{n}} \\sqrt{\\sum{y_i^2}-\\frac{(\\sum{y_i})^2}{n}}}$$"
   ]
  },
  {
   "cell_type": "code",
   "execution_count": 5,
   "metadata": {},
   "outputs": [],
   "source": [
    "def sim_pearson(person1_name, person2_name, prefs):\n",
    "    person1, person2 = prefs[person1_name], prefs[person2_name]\n",
    "    # 查找共同电影\n",
    "    common_item = {}\n",
    "    for key in person1.keys():\n",
    "        if key in person2.keys():\n",
    "            common_item[key] = 1\n",
    "    n = len(common_item)\n",
    "    if not n:\n",
    "        return 0\n",
    "    # 求和\n",
    "    sum1 = sum([person1[key] for key in common_item])\n",
    "    sum2 = sum([person2[key] for key in common_item])\n",
    "    # 求平方和\n",
    "    sum1_square = sum([person1[key]**2 for key in common_item])\n",
    "    sum2_square = sum([person2[key]**2 for key in common_item])\n",
    "    # 求两者乘积和\n",
    "    sum12 = sum([person1[key]*person2[key] for key in common_item])\n",
    "    num = sum12 - sum1*sum2/n\n",
    "    den = sqrt((sum1_square - sum1**2/n)*(sum2_square - sum2**2/n))\n",
    "    if not den:\n",
    "        return 0\n",
    "    return  num / den"
   ]
  },
  {
   "cell_type": "code",
   "execution_count": 6,
   "metadata": {},
   "outputs": [
    {
     "data": {
      "text/plain": [
       "0.39605901719066977"
      ]
     },
     "execution_count": 6,
     "metadata": {},
     "output_type": "execute_result"
    }
   ],
   "source": [
    "sim_pearson('Lisa Rose', 'Gene Seymour', critics)"
   ]
  },
  {
   "cell_type": "markdown",
   "metadata": {},
   "source": [
    "### 寻找相似用户"
   ]
  },
  {
   "cell_type": "code",
   "execution_count": 7,
   "metadata": {},
   "outputs": [],
   "source": [
    "def topMatches(person_name, prefs, topk=5, similarity=sim_pearson):\n",
    "    scores = [(similarity(person_name, name, prefs), name) for name in prefs.keys()]\n",
    "    scores.sort(key=lambda x:x[0], reverse=True)\n",
    "    return scores[1:topk+1]"
   ]
  },
  {
   "cell_type": "code",
   "execution_count": 8,
   "metadata": {},
   "outputs": [
    {
     "data": {
      "text/plain": [
       "[(0.9912407071619299, 'Lisa Rose'),\n",
       " (0.9244734516419049, 'Mick LaSalle'),\n",
       " (0.8934051474415647, 'Claudia Puig'),\n",
       " (0.66284898035987, 'Jack Matthews'),\n",
       " (0.38124642583151164, 'Gene Seymour')]"
      ]
     },
     "execution_count": 8,
     "metadata": {},
     "output_type": "execute_result"
    }
   ],
   "source": [
    "topMatches('Toby', critics)"
   ]
  },
  {
   "cell_type": "markdown",
   "metadata": {},
   "source": [
    "## 2. &nbsp; 推荐物品"
   ]
  },
  {
   "cell_type": "markdown",
   "metadata": {},
   "source": [
    "### 新物品评分\n",
    "$$score(x,p)=\\frac{\\sum_{i,sim>0}{score(i,p)*sim(x,i)}}{\\sum_{i,sim>0}{sim(x,i)}}$$"
   ]
  },
  {
   "cell_type": "code",
   "execution_count": 9,
   "metadata": {},
   "outputs": [],
   "source": [
    "# 对未评分物品进行打分推荐\n",
    "def estimatePersonScoreItem(people_name, prefs, similarity=sim_pearson):\n",
    "    person = prefs[people_name]\n",
    "    scoreSum = {}\n",
    "    simSum = {}\n",
    "    for other_name in prefs:\n",
    "        sim = similarity(people_name, other_name, prefs)\n",
    "        if sim==1 or sim<=0:\n",
    "            continue\n",
    "        other = prefs[other_name]\n",
    "        for item_name in other:\n",
    "            if item_name not in person or person[item_name]==0:\n",
    "                scoreSum.setdefault(item_name, 0)\n",
    "                scoreSum[item_name] += sim * other[item_name]\n",
    "                simSum.setdefault(item_name, 0)\n",
    "                simSum[item_name] += sim\n",
    "    score = [(scoreSum / simSum[item_name], item_name) for item_name, scoreSum in scoreSum.items()]\n",
    "    score.sort(key=lambda x:x[0], reverse=True)\n",
    "    return score        "
   ]
  },
  {
   "cell_type": "code",
   "execution_count": 10,
   "metadata": {},
   "outputs": [
    {
     "data": {
      "text/plain": [
       "[(3.3477895267131017, 'The Night Listener'),\n",
       " (2.8325499182641614, 'Lady in the Water'),\n",
       " (2.530980703765565, 'Just My Luck')]"
      ]
     },
     "execution_count": 10,
     "metadata": {},
     "output_type": "execute_result"
    }
   ],
   "source": [
    "estimatePersonScoreItem('Toby', critics, sim_pearson)"
   ]
  },
  {
   "cell_type": "markdown",
   "metadata": {},
   "source": [
    "### 将字典键值反转"
   ]
  },
  {
   "cell_type": "code",
   "execution_count": 11,
   "metadata": {},
   "outputs": [],
   "source": [
    "def transformPrefs(prefs):\n",
    "    result = {}\n",
    "    for person_name in prefs:\n",
    "        for item_name in prefs[person_name]:\n",
    "            result.setdefault(item_name, {})\n",
    "            result[item_name][person_name] = prefs[person_name][item_name]\n",
    "    return result"
   ]
  },
  {
   "cell_type": "code",
   "execution_count": 12,
   "metadata": {},
   "outputs": [
    {
     "data": {
      "text/plain": [
       "{'Lady in the Water': {'Lisa Rose': 2.5,\n",
       "  'Gene Seymour': 3.0,\n",
       "  'Michael Phillips': 2.5,\n",
       "  'Mick LaSalle': 3.0,\n",
       "  'Jack Matthews': 3.0},\n",
       " 'Snakes on a Plane': {'Lisa Rose': 3.5,\n",
       "  'Gene Seymour': 3.5,\n",
       "  'Michael Phillips': 3.0,\n",
       "  'Claudia Puig': 3.5,\n",
       "  'Mick LaSalle': 4.0,\n",
       "  'Jack Matthews': 4.0,\n",
       "  'Toby': 4.5},\n",
       " 'Just My Luck': {'Lisa Rose': 3.0,\n",
       "  'Gene Seymour': 1.5,\n",
       "  'Claudia Puig': 3.0,\n",
       "  'Mick LaSalle': 2.0},\n",
       " 'Superman Returns': {'Lisa Rose': 3.5,\n",
       "  'Gene Seymour': 5.0,\n",
       "  'Michael Phillips': 3.5,\n",
       "  'Claudia Puig': 4.0,\n",
       "  'Mick LaSalle': 3.0,\n",
       "  'Jack Matthews': 5.0,\n",
       "  'Toby': 4.0},\n",
       " 'You, Me and Dupree': {'Lisa Rose': 2.5,\n",
       "  'Gene Seymour': 3.5,\n",
       "  'Claudia Puig': 2.5,\n",
       "  'Mick LaSalle': 2.0,\n",
       "  'Jack Matthews': 3.5,\n",
       "  'Toby': 1.0},\n",
       " 'The Night Listener': {'Lisa Rose': 3.0,\n",
       "  'Gene Seymour': 3.0,\n",
       "  'Michael Phillips': 4.0,\n",
       "  'Claudia Puig': 4.5,\n",
       "  'Mick LaSalle': 3.0,\n",
       "  'Jack Matthews': 3.0}}"
      ]
     },
     "execution_count": 12,
     "metadata": {},
     "output_type": "execute_result"
    }
   ],
   "source": [
    "transformPrefs(critics)"
   ]
  },
  {
   "cell_type": "markdown",
   "metadata": {},
   "source": [
    "### 计算物品之间相似度"
   ]
  },
  {
   "cell_type": "code",
   "execution_count": 13,
   "metadata": {},
   "outputs": [],
   "source": [
    "def calSimilarItem(prefs, n=5):\n",
    "    result = {}\n",
    "    itemPrefs = transformPrefs(prefs)\n",
    "    for item_name in itemPrefs:\n",
    "        scores = topMatches(item_name, itemPrefs, topk=n, similarity=sim_pearson)\n",
    "        result[item_name] = scores\n",
    "    return result"
   ]
  },
  {
   "cell_type": "code",
   "execution_count": 14,
   "metadata": {},
   "outputs": [
    {
     "data": {
      "text/plain": [
       "{'Lady in the Water': [(0.7637626158259785, 'Snakes on a Plane'),\n",
       "  (0.4879500364742689, 'Superman Returns'),\n",
       "  (0.3333333333333333, 'You, Me and Dupree'),\n",
       "  (-0.6123724356957927, 'The Night Listener'),\n",
       "  (-0.9449111825230676, 'Just My Luck')],\n",
       " 'Snakes on a Plane': [(0.7637626158259785, 'Lady in the Water'),\n",
       "  (0.11180339887498941, 'Superman Returns'),\n",
       "  (-0.3333333333333333, 'Just My Luck'),\n",
       "  (-0.5663521139548527, 'The Night Listener'),\n",
       "  (-0.6454972243679047, 'You, Me and Dupree')],\n",
       " 'Just My Luck': [(0.5555555555555556, 'The Night Listener'),\n",
       "  (-0.3333333333333333, 'Snakes on a Plane'),\n",
       "  (-0.42289003161103106, 'Superman Returns'),\n",
       "  (-0.4856618642571827, 'You, Me and Dupree'),\n",
       "  (-0.9449111825230676, 'Lady in the Water')],\n",
       " 'Superman Returns': [(0.6579516949597695, 'You, Me and Dupree'),\n",
       "  (0.4879500364742689, 'Lady in the Water'),\n",
       "  (0.11180339887498941, 'Snakes on a Plane'),\n",
       "  (-0.1798471947990544, 'The Night Listener'),\n",
       "  (-0.42289003161103106, 'Just My Luck')],\n",
       " 'You, Me and Dupree': [(0.6579516949597695, 'Superman Returns'),\n",
       "  (0.3333333333333333, 'Lady in the Water'),\n",
       "  (-0.250000000000002, 'The Night Listener'),\n",
       "  (-0.4856618642571827, 'Just My Luck'),\n",
       "  (-0.6454972243679047, 'Snakes on a Plane')],\n",
       " 'The Night Listener': [(0.5555555555555556, 'Just My Luck'),\n",
       "  (-0.1798471947990544, 'Superman Returns'),\n",
       "  (-0.250000000000002, 'You, Me and Dupree'),\n",
       "  (-0.5663521139548527, 'Snakes on a Plane'),\n",
       "  (-0.6123724356957927, 'Lady in the Water')]}"
      ]
     },
     "execution_count": 14,
     "metadata": {},
     "output_type": "execute_result"
    }
   ],
   "source": [
    "calSimilarItem(critics)"
   ]
  },
  {
   "cell_type": "markdown",
   "metadata": {},
   "source": [
    "## 3. &nbsp; 获取数据集"
   ]
  },
  {
   "cell_type": "code",
   "execution_count": 15,
   "metadata": {},
   "outputs": [],
   "source": [
    "def loadData(path='./'):\n",
    "    # Get movie titles\n",
    "    movies = {}\n",
    "    for line in codecs.open(path+'u.item','r',encoding = \"ISO-8859-1\"):\n",
    "        (id, title) = line.split('|')[0:2]\n",
    "        movies[id] = title\n",
    "\n",
    "    # Load data\n",
    "    prefs = {}\n",
    "    for line in codecs.open(path+'u.data','r',encoding = \"ISO-8859-1\"):\n",
    "        (userid, movieid, rating, ts) = line.split('\\t')\n",
    "        prefs.setdefault(userid, {})\n",
    "        prefs[userid][movies[movieid]] = float(rating)\n",
    "    return prefs"
   ]
  },
  {
   "cell_type": "markdown",
   "metadata": {},
   "source": [
    "### 下载数据集，并转化为字典格式"
   ]
  },
  {
   "cell_type": "code",
   "execution_count": 16,
   "metadata": {},
   "outputs": [
    {
     "name": "stdout",
     "output_type": "stream",
     "text": [
      "wget: /opt/conda/lib/libuuid.so.1: no version information available (required by wget)\r\n",
      "--2019-07-29 03:41:48--  https://raw.githubusercontent.com/moneyDboat/Programming-Collective-Intelligence/master/data/movielens/u.item\r\n",
      "Resolving raw.githubusercontent.com (raw.githubusercontent.com)... 151.101.0.133, 151.101.64.133, 151.101.128.133, ...\r\n",
      "Connecting to raw.githubusercontent.com (raw.githubusercontent.com)|151.101.0.133|:443... connected.\r\n",
      "HTTP request sent, awaiting response... 200 OK\r\n",
      "Length: 236343 (231K) [text/plain]\r\n",
      "Saving to: ‘u.item’\r\n",
      "\r\n",
      "u.item              100%[===================>] 230.80K  --.-KB/s    in 0.03s   \r\n",
      "\r\n",
      "2019-07-29 03:41:48 (7.58 MB/s) - ‘u.item’ saved [236343/236343]\r\n",
      "\r\n",
      "wget: /opt/conda/lib/libuuid.so.1: no version information available (required by wget)\r\n",
      "--2019-07-29 03:41:49--  https://github.com/moneyDboat/Programming-Collective-Intelligence/raw/master/data/movielens/u.data\r\n",
      "Resolving github.com (github.com)... 192.30.255.112\r\n",
      "Connecting to github.com (github.com)|192.30.255.112|:443... connected.\r\n",
      "HTTP request sent, awaiting response... 302 Found\r\n",
      "Location: https://raw.githubusercontent.com/moneyDboat/Programming-Collective-Intelligence/master/data/movielens/u.data [following]\r\n",
      "--2019-07-29 03:41:49--  https://raw.githubusercontent.com/moneyDboat/Programming-Collective-Intelligence/master/data/movielens/u.data\r\n",
      "Resolving raw.githubusercontent.com (raw.githubusercontent.com)... 151.101.0.133, 151.101.64.133, 151.101.128.133, ...\r\n",
      "Connecting to raw.githubusercontent.com (raw.githubusercontent.com)|151.101.0.133|:443... connected.\r\n",
      "HTTP request sent, awaiting response... 200 OK\r\n",
      "Length: 1979172 (1.9M) [text/plain]\r\n",
      "Saving to: ‘u.data’\r\n",
      "\r\n",
      "u.data              100%[===================>]   1.89M  --.-KB/s    in 0.05s   \r\n",
      "\r\n",
      "2019-07-29 03:41:49 (34.8 MB/s) - ‘u.data’ saved [1979172/1979172]\r\n",
      "\r\n"
     ]
    }
   ],
   "source": [
    "!wget https://raw.githubusercontent.com/moneyDboat/Programming-Collective-Intelligence/master/data/movielens/u.item\n",
    "!wget https://github.com/moneyDboat/Programming-Collective-Intelligence/raw/master/data/movielens/u.data"
   ]
  },
  {
   "cell_type": "code",
   "execution_count": 17,
   "metadata": {},
   "outputs": [],
   "source": [
    "personToItem = loadData()"
   ]
  },
  {
   "cell_type": "markdown",
   "metadata": {},
   "source": [
    "## 4. &nbsp; 引用\n",
    "[1] &nbsp;&nbsp; [集体智慧编程](https://book.douban.com/subject/3288908/)    \n",
    "[2] &nbsp; [集体智慧编程笔记](https://github.com/moneyDboat/Programming-Collective-Intelligence)"
   ]
  }
 ],
 "metadata": {
  "kernelspec": {
   "display_name": "Python 3",
   "language": "python",
   "name": "python3"
  },
  "language_info": {
   "codemirror_mode": {
    "name": "ipython",
    "version": 3
   },
   "file_extension": ".py",
   "mimetype": "text/x-python",
   "name": "python",
   "nbconvert_exporter": "python",
   "pygments_lexer": "ipython3",
   "version": "3.6.6"
  }
 },
 "nbformat": 4,
 "nbformat_minor": 1
}
