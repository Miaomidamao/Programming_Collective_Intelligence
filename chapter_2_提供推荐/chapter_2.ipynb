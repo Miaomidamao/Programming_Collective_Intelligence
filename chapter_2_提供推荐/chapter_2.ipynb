{
 "cells": [
  {
   "cell_type": "code",
   "execution_count": 1,
   "metadata": {},
   "outputs": [],
   "source": [
    "from math import sqrt"
   ]
  },
  {
   "cell_type": "markdown",
   "metadata": {},
   "source": [
    "### 创建一个数据集，字典表示。内容为评价者对电影的评价"
   ]
  },
  {
   "cell_type": "code",
   "execution_count": 2,
   "metadata": {
    "_cell_guid": "79c7e3d0-c299-4dcb-8224-4455121ee9b0",
    "_uuid": "d629ff2d2480ee46fbb7e2d37f6b5fab8052498a"
   },
   "outputs": [],
   "source": [
    "critics = {'Lisa Rose': {'Lady in the Water': 2.5, 'Snakes on a Plane': 3.5,\n",
    "                         'Just My Luck': 3.0, 'Superman Returns': 3.5, 'You, Me and Dupree': 2.5,\n",
    "                         'The Night Listener': 3.0},\n",
    "           'Gene Seymour': {'Lady in the Water': 3.0, 'Snakes on a Plane': 3.5,\n",
    "                            'Just My Luck': 1.5, 'Superman Returns': 5.0, 'The Night Listener': 3.0,\n",
    "                            'You, Me and Dupree': 3.5},\n",
    "           'Michael Phillips': {'Lady in the Water': 2.5, 'Snakes on a Plane': 3.0,\n",
    "                                'Superman Returns': 3.5, 'The Night Listener': 4.0},\n",
    "           'Claudia Puig': {'Snakes on a Plane': 3.5, 'Just My Luck': 3.0,\n",
    "                            'The Night Listener': 4.5, 'Superman Returns': 4.0,\n",
    "                            'You, Me and Dupree': 2.5},\n",
    "           'Mick LaSalle': {'Lady in the Water': 3.0, 'Snakes on a Plane': 4.0,\n",
    "                            'Just My Luck': 2.0, 'Superman Returns': 3.0, 'The Night Listener': 3.0,\n",
    "                            'You, Me and Dupree': 2.0},\n",
    "           'Jack Matthews': {'Lady in the Water': 3.0, 'Snakes on a Plane': 4.0,\n",
    "                             'The Night Listener': 3.0, 'Superman Returns': 5.0, 'You, Me and Dupree': 3.5},\n",
    "           'Toby': {'Snakes on a Plane': 4.5, 'You, Me and Dupree': 1.0, 'Superman Returns': 4.0}}"
   ]
  },
  {
   "cell_type": "markdown",
   "metadata": {},
   "source": [
    "### 欧式距离评价\n",
    "$$sim(x,y) = \\frac{1}{1+\\sqrt{\\lVert x-y \\rVert_2^2}}$$"
   ]
  },
  {
   "cell_type": "code",
   "execution_count": 3,
   "metadata": {},
   "outputs": [],
   "source": [
    "def sim_distance(person1_name, person2_name, prefs):\n",
    "    person1, person2 = prefs[person1_name], prefs[person2_name]\n",
    "    # 查找共同电影\n",
    "    common_item = {}\n",
    "    for key in person1.keys():\n",
    "        if key in person2.keys():\n",
    "            common_item[key] = 1\n",
    "    if not len(common_item):\n",
    "        return 0\n",
    "    euc_distance = sum([pow(person1[key]-person2[key], 2) for key in common_item])\n",
    "    return 1 / (1 + sqrt(euc_distance))"
   ]
  },
  {
   "cell_type": "code",
   "execution_count": 4,
   "metadata": {},
   "outputs": [
    {
     "data": {
      "text/plain": [
       "0.29429805508554946"
      ]
     },
     "execution_count": 4,
     "metadata": {},
     "output_type": "execute_result"
    }
   ],
   "source": [
    "sim_distance('Lisa Rose', 'Gene Seymour', critics)"
   ]
  },
  {
   "cell_type": "markdown",
   "metadata": {},
   "source": [
    "### 皮尔森相关系数评价\n",
    "$$ sim(x,y) = \\frac{\\sum{x_i y_i} - \\frac{\\sum{x_i}\\sum{y_i}}{n}}{\\sqrt{\\sum{x_i^2}-\\frac{(\\sum{x_i})^2}{n}} \\sqrt{\\sum{y_i^2}-\\frac{(\\sum{y_i})^2}{n}}}$$"
   ]
  },
  {
   "cell_type": "code",
   "execution_count": 5,
   "metadata": {},
   "outputs": [],
   "source": [
    "def sim_pearson(person1_name, person2_name, prefs):\n",
    "    person1, person2 = prefs[person1_name], prefs[person2_name]\n",
    "    # 查找共同电影\n",
    "    common_item = {}\n",
    "    for key in person1.keys():\n",
    "        if key in person2.keys():\n",
    "            common_item[key] = 1\n",
    "    n = len(common_item)\n",
    "    if not n:\n",
    "        return 0\n",
    "    # 求和\n",
    "    sum1 = sum([person1[key] for key in common_item])\n",
    "    sum2 = sum([person2[key] for key in common_item])\n",
    "    # 求平方和\n",
    "    sum1_square = sum([person1[key]**2 for key in common_item])\n",
    "    sum2_square = sum([person2[key]**2 for key in common_item])\n",
    "    # 求两者乘积和\n",
    "    sum12 = sum([person1[key]*person2[key] for key in common_item])\n",
    "    num = sum12 - sum1*sum2/n\n",
    "    den = sqrt((sum1_square - sum1**2/n)*(sum2_square - sum2**2/n))\n",
    "    if not den:\n",
    "        return 0\n",
    "    return  num / den"
   ]
  },
  {
   "cell_type": "code",
   "execution_count": 6,
   "metadata": {},
   "outputs": [
    {
     "data": {
      "text/plain": [
       "0.39605901719066977"
      ]
     },
     "execution_count": 6,
     "metadata": {},
     "output_type": "execute_result"
    }
   ],
   "source": [
    "sim_pearson('Lisa Rose', 'Gene Seymour', critics)"
   ]
  },
  {
   "cell_type": "markdown",
   "metadata": {},
   "source": [
    "### 寻找相似用户"
   ]
  },
  {
   "cell_type": "code",
   "execution_count": 7,
   "metadata": {},
   "outputs": [],
   "source": [
    "def peopleTopMatches(person_name, prefs, topk=5, similarity=sim_pearson):\n",
    "    scores = [(similarity(person_name, name, prefs), name) for name in prefs.keys()]\n",
    "    scores.sort(key=lambda x:x[0], reverse=True)\n",
    "    return scores[1:topk+1]"
   ]
  },
  {
   "cell_type": "code",
   "execution_count": 8,
   "metadata": {},
   "outputs": [
    {
     "data": {
      "text/plain": [
       "[(0.9912407071619299, 'Lisa Rose'),\n",
       " (0.9244734516419049, 'Mick LaSalle'),\n",
       " (0.8934051474415647, 'Claudia Puig'),\n",
       " (0.66284898035987, 'Jack Matthews'),\n",
       " (0.38124642583151164, 'Gene Seymour')]"
      ]
     },
     "execution_count": 8,
     "metadata": {},
     "output_type": "execute_result"
    }
   ],
   "source": [
    "peopleTopMatches('Toby', critics)"
   ]
  },
  {
   "cell_type": "markdown",
   "metadata": {},
   "source": [
    "### 推荐物品"
   ]
  },
  {
   "cell_type": "code",
   "execution_count": null,
   "metadata": {},
   "outputs": [],
   "source": []
  },
  {
   "cell_type": "code",
   "execution_count": null,
   "metadata": {},
   "outputs": [],
   "source": []
  }
 ],
 "metadata": {
  "kernelspec": {
   "display_name": "Python 3",
   "language": "python",
   "name": "python3"
  },
  "language_info": {
   "codemirror_mode": {
    "name": "ipython",
    "version": 3
   },
   "file_extension": ".py",
   "mimetype": "text/x-python",
   "name": "python",
   "nbconvert_exporter": "python",
   "pygments_lexer": "ipython3",
   "version": "3.6.6"
  }
 },
 "nbformat": 4,
 "nbformat_minor": 1
}
